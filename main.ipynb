{
 "cells": [
  {
   "cell_type": "code",
   "execution_count": null,
   "metadata": {},
   "outputs": [],
   "source": [
    "# Import necessary modules\n",
    "import data_preprocessor as dp\n",
    "from data_preprocessor import simple_model\n",
    "import pandas as pd\n",
    "from sklearn.linear_model import LogisticRegression\n",
    "from sklearn.metrics import accuracy_score\n",
    "\n",
    "# 1. Load the dataset\n",
    "messy_data = pd.read_csv(\"C:/Users/demos/Assignment1/messy_data.csv\")\n",
    "clean_data = messy_data.copy()\n",
    "\n",
    "#Inspect the data\n",
    "print(messy_data.head())\n",
    "print(messy_data.info())\n",
    "print(messy_data.describe())\n",
    "\n",
    "# 2. Preprocess the data\n",
    "clean_data = dp.impute_missing_values(clean_data, strategy='mean')\n",
    "clean_data = pd.get_dummies(clean_data, drop_first=True)\n",
    "clean_data = dp.remove_duplicates(clean_data)\n",
    "clean_data = dp.normalize_data(clean_data)\n",
    "clean_data = dp.remove_redundant_features(clean_data)\n",
    "\n",
    "# 3. Save the cleaned dataset\n",
    "clean_data.to_csv(\"C:/Users/demos/Assignment1/clean_data.csv\", index=False)\n",
    "\n",
    "print(clean_data.head())\n",
    "print(clean_data.info())\n",
    "print(clean_data.describe())\n",
    "\n",
    "# 4. Train and evaluate the model\n",
    "simple_model(clean_data)"
   ]
  }
 ],
 "metadata": {
  "kernelspec": {
   "display_name": "default",
   "language": "python",
   "name": "python3"
  },
  "language_info": {
   "codemirror_mode": {
    "name": "ipython",
    "version": 3
   },
   "file_extension": ".py",
   "mimetype": "text/x-python",
   "name": "python",
   "nbconvert_exporter": "python",
   "pygments_lexer": "ipython3",
   "version": "3.13.1"
  }
 },
 "nbformat": 4,
 "nbformat_minor": 2
}
